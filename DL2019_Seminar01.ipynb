{
  "nbformat": 4,
  "nbformat_minor": 0,
  "metadata": {
    "colab": {
      "name": "DL2019_Seminar01.ipynb",
      "version": "0.3.2",
      "provenance": [],
      "collapsed_sections": [],
      "include_colab_link": true
    },
    "kernelspec": {
      "name": "python3",
      "display_name": "Python 3"
    },
    "accelerator": "GPU"
  },
  "cells": [
    {
      "cell_type": "markdown",
      "metadata": {
        "id": "view-in-github",
        "colab_type": "text"
      },
      "source": [
        "<a href=\"https://colab.research.google.com/github/EfimovIN/DS/blob/master/DL2019_Seminar01.ipynb\" target=\"_parent\"><img src=\"https://colab.research.google.com/assets/colab-badge.svg\" alt=\"Open In Colab\"/></a>"
      ]
    },
    {
      "metadata": {
        "id": "OiincjjR23ub",
        "colab_type": "code",
        "outputId": "41689ede-e2fa-4525-e630-2cf6fae35eee",
        "colab": {
          "base_uri": "https://localhost:8080/",
          "height": 34
        }
      },
      "cell_type": "code",
      "source": [
        "import os\n",
        "\n",
        "import ssl\n",
        "import tqdm\n",
        "import numpy as np\n",
        "import matplotlib.pyplot as plt\n",
        "\n",
        "from IPython.display import SVG, Image\n",
        "from skimage.feature import hog\n",
        "from skimage import color\n",
        "from sklearn.metrics import accuracy_score\n",
        "from sklearn.linear_model import LogisticRegression\n",
        "from keras.datasets import cifar10\n",
        "from keras.models import Sequential\n",
        "from keras.layers import (Dense, Conv2D, InputLayer, \n",
        "                          GlobalAveragePooling2D, Activation,\n",
        "                          Dropout, MaxPooling2D, Flatten)\n",
        "from keras.optimizers import Adam\n",
        "from keras.utils import to_categorical\n",
        "from keras.utils.vis_utils import model_to_dot\n",
        "from tensorflow.keras import layers\n",
        "from tensorflow import keras "
      ],
      "execution_count": 2,
      "outputs": [
        {
          "output_type": "stream",
          "text": [
            "Using TensorFlow backend.\n"
          ],
          "name": "stderr"
        }
      ]
    },
    {
      "metadata": {
        "id": "s1aZUO1V98f1",
        "colab_type": "code",
        "colab": {
          "base_uri": "https://localhost:8080/",
          "height": 34
        },
        "outputId": "0ca209ac-9244-4bf4-89d9-2bdee38e80d1"
      },
      "cell_type": "code",
      "source": [
        "import tensorflow as tf\n",
        "tf.test.gpu_device_name()"
      ],
      "execution_count": 3,
      "outputs": [
        {
          "output_type": "execute_result",
          "data": {
            "text/plain": [
              "'/device:GPU:0'"
            ]
          },
          "metadata": {
            "tags": []
          },
          "execution_count": 3
        }
      ]
    },
    {
      "metadata": {
        "id": "4zPxd2Lv3DAt",
        "colab_type": "code",
        "colab": {}
      },
      "cell_type": "code",
      "source": [
        "ssl._create_default_https_context = ssl._create_unverified_context"
      ],
      "execution_count": 0,
      "outputs": []
    },
    {
      "metadata": {
        "id": "7RcyyYJZYMiR",
        "colab_type": "code",
        "colab": {}
      },
      "cell_type": "code",
      "source": [
        ""
      ],
      "execution_count": 0,
      "outputs": []
    },
    {
      "metadata": {
        "id": "alklAIdH3Ix-",
        "colab_type": "code",
        "colab": {
          "base_uri": "https://localhost:8080/",
          "height": 51
        },
        "outputId": "3f78d190-038b-4085-a73f-0c4b90453d69"
      },
      "cell_type": "code",
      "source": [
        "filenames = ('x_train.npy', 'x_test.npy', 'y_train.npy', 'y_test.npy')\n",
        "if all([os.path.exists('./cifar10/' + filename) for filename in filenames]):\n",
        "    x_train = np.load('cifar10/x_train.npy')\n",
        "    x_test = np.load('cifar10/x_test.npy')\n",
        "    y_train = np.load('cifar10/y_train.npy')\n",
        "    y_test = np.load('cifar10/y_test.npy')\n",
        "else:\n",
        "    (x_train, y_train), (x_test, y_test) = cifar10.load_data()\n",
        "    \n",
        "    str_2_var = {'x_train': x_train,\n",
        "             'x_test': x_test,\n",
        "             'y_train': y_train,\n",
        "             'y_test': y_test}\n",
        "    \n",
        "    if not os.path.exists('cifar10/'):\n",
        "        os.mkdir('cifar_10/')\n",
        "\n",
        "    for var_str, var_name in str_2_var.items():\n",
        "        np.save('cifar10_' + var_str + '.npy', var_name)"
      ],
      "execution_count": 4,
      "outputs": [
        {
          "output_type": "stream",
          "text": [
            "Downloading data from https://www.cs.toronto.edu/~kriz/cifar-10-python.tar.gz\n",
            "170500096/170498071 [==============================] - 20s 0us/step\n"
          ],
          "name": "stdout"
        }
      ]
    },
    {
      "metadata": {
        "id": "lFJZb4wH40on",
        "colab_type": "code",
        "colab": {}
      },
      "cell_type": "code",
      "source": [
        "class_names = {0: 'airplane', 1: 'automobile', 2: 'bird', 3: 'cat', 4: 'deer',\n",
        "               5: 'dog', 6: 'frog', 7: 'horse', 8: 'ship', 9: 'truck'}"
      ],
      "execution_count": 0,
      "outputs": []
    },
    {
      "metadata": {
        "id": "uPZQNf_O42zJ",
        "colab_type": "code",
        "colab": {
          "base_uri": "https://localhost:8080/",
          "height": 209
        },
        "outputId": "77c64dfa-e7ab-4cd7-d13c-7b483199d6d2"
      },
      "cell_type": "code",
      "source": [
        "fig = plt.figure(figsize=(8,3))\n",
        "\n",
        "for i in range(len(class_names)):\n",
        "    ax = fig.add_subplot(2, 5, 1 + i, xticks=[], yticks=[])\n",
        "    ax.set_title(class_names[i])\n",
        "    idx = np.where(y_train[:]==i)[0][0]\n",
        "    image = x_train[idx]\n",
        "    plt.imshow(image)\n",
        "\n",
        "plt.show()"
      ],
      "execution_count": 6,
      "outputs": [
        {
          "output_type": "display_data",
          "data": {
            "image/png": "[encoded data removed]",
            "text/plain": [
              "<Figure size 576x216 with 10 Axes>"
            ]
          },
          "metadata": {
            "tags": []
          }
        }
      ]
    },
    {
      "metadata": {
        "id": "bY_vZ0y7471g",
        "colab_type": "code",
        "colab": {}
      },
      "cell_type": "code",
      "source": [
        "model_dl = Sequential()\n",
        "\n",
        "model_dl.add(Conv2D(filters=32,\n",
        "                    kernel_size=(3, 3),\n",
        "                    padding='same',\n",
        "                    input_shape=x_train.shape[1:]))\n",
        "model_dl.add(Activation('relu'))\n",
        "model_dl.add(Conv2D(filters=32,\n",
        "                    kernel_size=(3, 3)))\n",
        "model_dl.add(Activation('relu'))\n",
        "model_dl.add(MaxPooling2D(pool_size=(2, 2)))\n",
        "model_dl.add(Dropout(0.25))\n",
        "\n",
        "model_dl.add(Conv2D(filters=64,\n",
        "                    kernel_size=(3, 3),\n",
        "                    padding='same'))\n",
        "model_dl.add(Activation('relu'))\n",
        "model_dl.add(Conv2D(filters=64,\n",
        "                    kernel_size=(3, 3)))\n",
        "model_dl.add(Activation('relu'))\n",
        "model_dl.add(MaxPooling2D(pool_size=(2, 2)))\n",
        "model_dl.add(Dropout(0.25))\n",
        "\n",
        "model_dl.add(Flatten())\n",
        "model_dl.add(Dense(units=128))\n",
        "model_dl.add(Activation('relu'))\n",
        "model_dl.add(Dropout(0.5))\n",
        "model_dl.add(Dense(units=10))\n",
        "model_dl.add(Activation('softmax', name='out'))"
      ],
      "execution_count": 0,
      "outputs": []
    },
    {
      "metadata": {
        "id": "Kps2qaQL5OVg",
        "colab_type": "code",
        "colab": {
          "base_uri": "https://localhost:8080/",
          "height": 952
        },
        "outputId": "eb571ba8-9b23-4a50-9efb-6608188a8a33"
      },
      "cell_type": "code",
      "source": [
        "model_dl.summary()"
      ],
      "execution_count": 62,
      "outputs": [
        {
          "output_type": "stream",
          "text": [
            "_________________________________________________________________\n",
            "Layer (type)                 Output Shape              Param #   \n",
            "=================================================================\n",
            "conv2d_25 (Conv2D)           (None, 32, 32, 32)        896       \n",
            "_________________________________________________________________\n",
            "activation_23 (Activation)   (None, 32, 32, 32)        0         \n",
            "_________________________________________________________________\n",
            "conv2d_26 (Conv2D)           (None, 28, 28, 32)        25632     \n",
            "_________________________________________________________________\n",
            "activation_24 (Activation)   (None, 28, 28, 32)        0         \n",
            "_________________________________________________________________\n",
            "max_pooling2d_14 (MaxPooling (None, 14, 14, 32)        0         \n",
            "_________________________________________________________________\n",
            "dropout_14 (Dropout)         (None, 14, 14, 32)        0         \n",
            "_________________________________________________________________\n",
            "conv2d_27 (Conv2D)           (None, 14, 14, 64)        18496     \n",
            "_________________________________________________________________\n",
            "activation_25 (Activation)   (None, 14, 14, 64)        0         \n",
            "_________________________________________________________________\n",
            "conv2d_28 (Conv2D)           (None, 10, 10, 64)        102464    \n",
            "_________________________________________________________________\n",
            "activation_26 (Activation)   (None, 10, 10, 64)        0         \n",
            "_________________________________________________________________\n",
            "max_pooling2d_15 (MaxPooling (None, 5, 5, 64)          0         \n",
            "_________________________________________________________________\n",
            "dropout_15 (Dropout)         (None, 5, 5, 64)          0         \n",
            "_________________________________________________________________\n",
            "conv2d_29 (Conv2D)           (None, 5, 5, 64)          36928     \n",
            "_________________________________________________________________\n",
            "activation_27 (Activation)   (None, 5, 5, 64)          0         \n",
            "_________________________________________________________________\n",
            "conv2d_30 (Conv2D)           (None, 3, 3, 64)          36928     \n",
            "_________________________________________________________________\n",
            "activation_28 (Activation)   (None, 3, 3, 64)          0         \n",
            "_________________________________________________________________\n",
            "max_pooling2d_16 (MaxPooling (None, 1, 1, 64)          0         \n",
            "_________________________________________________________________\n",
            "dropout_16 (Dropout)         (None, 1, 1, 64)          0         \n",
            "_________________________________________________________________\n",
            "flatten_6 (Flatten)          (None, 64)                0         \n",
            "_________________________________________________________________\n",
            "dense_11 (Dense)             (None, 128)               8320      \n",
            "_________________________________________________________________\n",
            "activation_29 (Activation)   (None, 128)               0         \n",
            "_________________________________________________________________\n",
            "dropout_17 (Dropout)         (None, 128)               0         \n",
            "_________________________________________________________________\n",
            "dense_12 (Dense)             (None, 10)                1290      \n",
            "_________________________________________________________________\n",
            "out (Activation)             (None, 10)                0         \n",
            "=================================================================\n",
            "Total params: 230,954\n",
            "Trainable params: 230,954\n",
            "Non-trainable params: 0\n",
            "_________________________________________________________________\n"
          ],
          "name": "stdout"
        }
      ]
    },
    {
      "metadata": {
        "id": "uu_ALdA-6UyD",
        "colab_type": "code",
        "colab": {
          "base_uri": "https://localhost:8080/",
          "height": 2417
        },
        "outputId": "d0730093-2a83-4d73-dd2b-743a6c44f28d"
      },
      "cell_type": "code",
      "source": [
        "SVG(model_to_dot(model_dl).create(prog='dot', format='svg'))"
      ],
      "execution_count": 63,
      "outputs": [
        {
          "output_type": "execute_result",
          "data": {
            "text/plain": [
              "<IPython.core.display.SVG object>"
            ],
            "image/svg+xml": "<svg height=\"1797pt\" viewBox=\"0.00 0.00 237.00 1797.00\" width=\"237pt\" xmlns=\"http://www.w3.org/2000/svg\" xmlns:xlink=\"http://www.w3.org/1999/xlink\">\n<g class=\"graph\" id=\"graph0\" transform=\"scale(1 1) rotate(0) translate(4 1793)\">\n<title>G</title>\n<polygon fill=\"#ffffff\" points=\"-4,4 -4,-1793 233,-1793 233,4 -4,4\" stroke=\"transparent\"/>\n<!-- 140367050451040 -->\n<g class=\"node\" id=\"node1\">\n<title>140367050451040</title>\n<polygon fill=\"none\" points=\"44.5,-1679.5 44.5,-1715.5 184.5,-1715.5 184.5,-1679.5 44.5,-1679.5\" stroke=\"#000000\"/>\n<text fill=\"#000000\" font-family=\"Times,serif\" font-size=\"14.00\" text-anchor=\"middle\" x=\"114.5\" y=\"-1693.8\">conv2d_25: Conv2D</text>\n</g>\n<!-- 140367050452384 -->\n<g class=\"node\" id=\"node2\">\n<title>140367050452384</title>\n<polygon fill=\"none\" points=\"34,-1606.5 34,-1642.5 195,-1642.5 195,-1606.5 34,-1606.5\" stroke=\"#000000\"/>\n<text fill=\"#000000\" font-family=\"Times,serif\" font-size=\"14.00\" text-anchor=\"middle\" x=\"114.5\" y=\"-1620.8\">activation_23: Activation</text>\n</g>\n<!-- 140367050451040&#45;&gt;140367050452384 -->\n<g class=\"edge\" id=\"edge2\">\n<title>140367050451040-&gt;140367050452384</title>\n<path d=\"M114.5,-1679.4551C114.5,-1671.3828 114.5,-1661.6764 114.5,-1652.6817\" fill=\"none\" stroke=\"#000000\"/>\n<polygon fill=\"#000000\" points=\"118.0001,-1652.5903 114.5,-1642.5904 111.0001,-1652.5904 118.0001,-1652.5903\" stroke=\"#000000\"/>\n</g>\n<!-- 140367050518600 -->\n<g class=\"node\" id=\"node3\">\n<title>140367050518600</title>\n<polygon fill=\"none\" points=\"44.5,-1533.5 44.5,-1569.5 184.5,-1569.5 184.5,-1533.5 44.5,-1533.5\" stroke=\"#000000\"/>\n<text fill=\"#000000\" font-family=\"Times,serif\" font-size=\"14.00\" text-anchor=\"middle\" x=\"114.5\" y=\"-1547.8\">conv2d_26: Conv2D</text>\n</g>\n<!-- 140367050452384&#45;&gt;140367050518600 -->\n<g class=\"edge\" id=\"edge3\">\n<title>140367050452384-&gt;140367050518600</title>\n<path d=\"M114.5,-1606.4551C114.5,-1598.3828 114.5,-1588.6764 114.5,-1579.6817\" fill=\"none\" stroke=\"#000000\"/>\n<polygon fill=\"#000000\" points=\"118.0001,-1579.5903 114.5,-1569.5904 111.0001,-1579.5904 118.0001,-1579.5903\" stroke=\"#000000\"/>\n</g>\n<!-- 140367050518824 -->\n<g class=\"node\" id=\"node4\">\n<title>140367050518824</title>\n<polygon fill=\"none\" points=\"34,-1460.5 34,-1496.5 195,-1496.5 195,-1460.5 34,-1460.5\" stroke=\"#000000\"/>\n<text fill=\"#000000\" font-family=\"Times,serif\" font-size=\"14.00\" text-anchor=\"middle\" x=\"114.5\" y=\"-1474.8\">activation_24: Activation</text>\n</g>\n<!-- 140367050518600&#45;&gt;140367050518824 -->\n<g class=\"edge\" id=\"edge4\">\n<title>140367050518600-&gt;140367050518824</title>\n<path d=\"M114.5,-1533.4551C114.5,-1525.3828 114.5,-1515.6764 114.5,-1506.6817\" fill=\"none\" stroke=\"#000000\"/>\n<polygon fill=\"#000000\" points=\"118.0001,-1506.5903 114.5,-1496.5904 111.0001,-1506.5904 118.0001,-1506.5903\" stroke=\"#000000\"/>\n</g>\n<!-- 140367050572912 -->\n<g class=\"node\" id=\"node5\">\n<title>140367050572912</title>\n<polygon fill=\"none\" points=\"0,-1387.5 0,-1423.5 229,-1423.5 229,-1387.5 0,-1387.5\" stroke=\"#000000\"/>\n<text fill=\"#000000\" font-family=\"Times,serif\" font-size=\"14.00\" text-anchor=\"middle\" x=\"114.5\" y=\"-1401.8\">max_pooling2d_14: MaxPooling2D</text>\n</g>\n<!-- 140367050518824&#45;&gt;140367050572912 -->\n<g class=\"edge\" id=\"edge5\">\n<title>140367050518824-&gt;140367050572912</title>\n<path d=\"M114.5,-1460.4551C114.5,-1452.3828 114.5,-1442.6764 114.5,-1433.6817\" fill=\"none\" stroke=\"#000000\"/>\n<polygon fill=\"#000000\" points=\"118.0001,-1433.5903 114.5,-1423.5904 111.0001,-1433.5904 118.0001,-1433.5903\" stroke=\"#000000\"/>\n</g>\n<!-- 140367050573416 -->\n<g class=\"node\" id=\"node6\">\n<title>140367050573416</title>\n<polygon fill=\"none\" points=\"44,-1314.5 44,-1350.5 185,-1350.5 185,-1314.5 44,-1314.5\" stroke=\"#000000\"/>\n<text fill=\"#000000\" font-family=\"Times,serif\" font-size=\"14.00\" text-anchor=\"middle\" x=\"114.5\" y=\"-1328.8\">dropout_14: Dropout</text>\n</g>\n<!-- 140367050572912&#45;&gt;140367050573416 -->\n<g class=\"edge\" id=\"edge6\">\n<title>140367050572912-&gt;140367050573416</title>\n<path d=\"M114.5,-1387.4551C114.5,-1379.3828 114.5,-1369.6764 114.5,-1360.6817\" fill=\"none\" stroke=\"#000000\"/>\n<polygon fill=\"#000000\" points=\"118.0001,-1360.5903 114.5,-1350.5904 111.0001,-1360.5904 118.0001,-1360.5903\" stroke=\"#000000\"/>\n</g>\n<!-- 140367050574088 -->\n<g class=\"node\" id=\"node7\">\n<title>140367050574088</title>\n<polygon fill=\"none\" points=\"44.5,-1241.5 44.5,-1277.5 184.5,-1277.5 184.5,-1241.5 44.5,-1241.5\" stroke=\"#000000\"/>\n<text fill=\"#000000\" font-family=\"Times,serif\" font-size=\"14.00\" text-anchor=\"middle\" x=\"114.5\" y=\"-1255.8\">conv2d_27: Conv2D</text>\n</g>\n<!-- 140367050573416&#45;&gt;140367050574088 -->\n<g class=\"edge\" id=\"edge7\">\n<title>140367050573416-&gt;140367050574088</title>\n<path d=\"M114.5,-1314.4551C114.5,-1306.3828 114.5,-1296.6764 114.5,-1287.6817\" fill=\"none\" stroke=\"#000000\"/>\n<polygon fill=\"#000000\" points=\"118.0001,-1287.5903 114.5,-1277.5904 111.0001,-1287.5904 118.0001,-1287.5903\" stroke=\"#000000\"/>\n</g>\n<!-- 140367050518768 -->\n<g class=\"node\" id=\"node8\">\n<title>140367050518768</title>\n<polygon fill=\"none\" points=\"34,-1168.5 34,-1204.5 195,-1204.5 195,-1168.5 34,-1168.5\" stroke=\"#000000\"/>\n<text fill=\"#000000\" font-family=\"Times,serif\" font-size=\"14.00\" text-anchor=\"middle\" x=\"114.5\" y=\"-1182.8\">activation_25: Activation</text>\n</g>\n<!-- 140367050574088&#45;&gt;140367050518768 -->\n<g class=\"edge\" id=\"edge8\">\n<title>140367050574088-&gt;140367050518768</title>\n<path d=\"M114.5,-1241.4551C114.5,-1233.3828 114.5,-1223.6764 114.5,-1214.6817\" fill=\"none\" stroke=\"#000000\"/>\n<polygon fill=\"#000000\" points=\"118.0001,-1214.5903 114.5,-1204.5904 111.0001,-1214.5904 118.0001,-1214.5903\" stroke=\"#000000\"/>\n</g>\n<!-- 140367050229296 -->\n<g class=\"node\" id=\"node9\">\n<title>140367050229296</title>\n<polygon fill=\"none\" points=\"44.5,-1095.5 44.5,-1131.5 184.5,-1131.5 184.5,-1095.5 44.5,-1095.5\" stroke=\"#000000\"/>\n<text fill=\"#000000\" font-family=\"Times,serif\" font-size=\"14.00\" text-anchor=\"middle\" x=\"114.5\" y=\"-1109.8\">conv2d_28: Conv2D</text>\n</g>\n<!-- 140367050518768&#45;&gt;140367050229296 -->\n<g class=\"edge\" id=\"edge9\">\n<title>140367050518768-&gt;140367050229296</title>\n<path d=\"M114.5,-1168.4551C114.5,-1160.3828 114.5,-1150.6764 114.5,-1141.6817\" fill=\"none\" stroke=\"#000000\"/>\n<polygon fill=\"#000000\" points=\"118.0001,-1141.5903 114.5,-1131.5904 111.0001,-1141.5904 118.0001,-1141.5903\" stroke=\"#000000\"/>\n</g>\n<!-- 140367050228792 -->\n<g class=\"node\" id=\"node10\">\n<title>140367050228792</title>\n<polygon fill=\"none\" points=\"34,-1022.5 34,-1058.5 195,-1058.5 195,-1022.5 34,-1022.5\" stroke=\"#000000\"/>\n<text fill=\"#000000\" font-family=\"Times,serif\" font-size=\"14.00\" text-anchor=\"middle\" x=\"114.5\" y=\"-1036.8\">activation_26: Activation</text>\n</g>\n<!-- 140367050229296&#45;&gt;140367050228792 -->\n<g class=\"edge\" id=\"edge10\">\n<title>140367050229296-&gt;140367050228792</title>\n<path d=\"M114.5,-1095.4551C114.5,-1087.3828 114.5,-1077.6764 114.5,-1068.6817\" fill=\"none\" stroke=\"#000000\"/>\n<polygon fill=\"#000000\" points=\"118.0001,-1068.5903 114.5,-1058.5904 111.0001,-1068.5904 118.0001,-1068.5903\" stroke=\"#000000\"/>\n</g>\n<!-- 140367049935616 -->\n<g class=\"node\" id=\"node11\">\n<title>140367049935616</title>\n<polygon fill=\"none\" points=\"0,-949.5 0,-985.5 229,-985.5 229,-949.5 0,-949.5\" stroke=\"#000000\"/>\n<text fill=\"#000000\" font-family=\"Times,serif\" font-size=\"14.00\" text-anchor=\"middle\" x=\"114.5\" y=\"-963.8\">max_pooling2d_15: MaxPooling2D</text>\n</g>\n<!-- 140367050228792&#45;&gt;140367049935616 -->\n<g class=\"edge\" id=\"edge11\">\n<title>140367050228792-&gt;140367049935616</title>\n<path d=\"M114.5,-1022.4551C114.5,-1014.3828 114.5,-1004.6764 114.5,-995.6817\" fill=\"none\" stroke=\"#000000\"/>\n<polygon fill=\"#000000\" points=\"118.0001,-995.5903 114.5,-985.5904 111.0001,-995.5904 118.0001,-995.5903\" stroke=\"#000000\"/>\n</g>\n<!-- 140367049936176 -->\n<g class=\"node\" id=\"node12\">\n<title>140367049936176</title>\n<polygon fill=\"none\" points=\"44,-876.5 44,-912.5 185,-912.5 185,-876.5 44,-876.5\" stroke=\"#000000\"/>\n<text fill=\"#000000\" font-family=\"Times,serif\" font-size=\"14.00\" text-anchor=\"middle\" x=\"114.5\" y=\"-890.8\">dropout_15: Dropout</text>\n</g>\n<!-- 140367049935616&#45;&gt;140367049936176 -->\n<g class=\"edge\" id=\"edge12\">\n<title>140367049935616-&gt;140367049936176</title>\n<path d=\"M114.5,-949.4551C114.5,-941.3828 114.5,-931.6764 114.5,-922.6817\" fill=\"none\" stroke=\"#000000\"/>\n<polygon fill=\"#000000\" points=\"118.0001,-922.5903 114.5,-912.5904 111.0001,-922.5904 118.0001,-922.5903\" stroke=\"#000000\"/>\n</g>\n<!-- 140367050023096 -->\n<g class=\"node\" id=\"node13\">\n<title>140367050023096</title>\n<polygon fill=\"none\" points=\"44.5,-803.5 44.5,-839.5 184.5,-839.5 184.5,-803.5 44.5,-803.5\" stroke=\"#000000\"/>\n<text fill=\"#000000\" font-family=\"Times,serif\" font-size=\"14.00\" text-anchor=\"middle\" x=\"114.5\" y=\"-817.8\">conv2d_29: Conv2D</text>\n</g>\n<!-- 140367049936176&#45;&gt;140367050023096 -->\n<g class=\"edge\" id=\"edge13\">\n<title>140367049936176-&gt;140367050023096</title>\n<path d=\"M114.5,-876.4551C114.5,-868.3828 114.5,-858.6764 114.5,-849.6817\" fill=\"none\" stroke=\"#000000\"/>\n<polygon fill=\"#000000\" points=\"118.0001,-849.5903 114.5,-839.5904 111.0001,-849.5904 118.0001,-849.5903\" stroke=\"#000000\"/>\n</g>\n<!-- 140367050228680 -->\n<g class=\"node\" id=\"node14\">\n<title>140367050228680</title>\n<polygon fill=\"none\" points=\"34,-730.5 34,-766.5 195,-766.5 195,-730.5 34,-730.5\" stroke=\"#000000\"/>\n<text fill=\"#000000\" font-family=\"Times,serif\" font-size=\"14.00\" text-anchor=\"middle\" x=\"114.5\" y=\"-744.8\">activation_27: Activation</text>\n</g>\n<!-- 140367050023096&#45;&gt;140367050228680 -->\n<g class=\"edge\" id=\"edge14\">\n<title>140367050023096-&gt;140367050228680</title>\n<path d=\"M114.5,-803.4551C114.5,-795.3828 114.5,-785.6764 114.5,-776.6817\" fill=\"none\" stroke=\"#000000\"/>\n<polygon fill=\"#000000\" points=\"118.0001,-776.5903 114.5,-766.5904 111.0001,-776.5904 118.0001,-776.5903\" stroke=\"#000000\"/>\n</g>\n<!-- 140367049613096 -->\n<g class=\"node\" id=\"node15\">\n<title>140367049613096</title>\n<polygon fill=\"none\" points=\"44.5,-657.5 44.5,-693.5 184.5,-693.5 184.5,-657.5 44.5,-657.5\" stroke=\"#000000\"/>\n<text fill=\"#000000\" font-family=\"Times,serif\" font-size=\"14.00\" text-anchor=\"middle\" x=\"114.5\" y=\"-671.8\">conv2d_30: Conv2D</text>\n</g>\n<!-- 140367050228680&#45;&gt;140367049613096 -->\n<g class=\"edge\" id=\"edge15\">\n<title>140367050228680-&gt;140367049613096</title>\n<path d=\"M114.5,-730.4551C114.5,-722.3828 114.5,-712.6764 114.5,-703.6817\" fill=\"none\" stroke=\"#000000\"/>\n<polygon fill=\"#000000\" points=\"118.0001,-703.5903 114.5,-693.5904 111.0001,-703.5904 118.0001,-703.5903\" stroke=\"#000000\"/>\n</g>\n<!-- 140367049704168 -->\n<g class=\"node\" id=\"node16\">\n<title>140367049704168</title>\n<polygon fill=\"none\" points=\"34,-584.5 34,-620.5 195,-620.5 195,-584.5 34,-584.5\" stroke=\"#000000\"/>\n<text fill=\"#000000\" font-family=\"Times,serif\" font-size=\"14.00\" text-anchor=\"middle\" x=\"114.5\" y=\"-598.8\">activation_28: Activation</text>\n</g>\n<!-- 140367049613096&#45;&gt;140367049704168 -->\n<g class=\"edge\" id=\"edge16\">\n<title>140367049613096-&gt;140367049704168</title>\n<path d=\"M114.5,-657.4551C114.5,-649.3828 114.5,-639.6764 114.5,-630.6817\" fill=\"none\" stroke=\"#000000\"/>\n<polygon fill=\"#000000\" points=\"118.0001,-630.5903 114.5,-620.5904 111.0001,-630.5904 118.0001,-630.5903\" stroke=\"#000000\"/>\n</g>\n<!-- 140367049399712 -->\n<g class=\"node\" id=\"node17\">\n<title>140367049399712</title>\n<polygon fill=\"none\" points=\"0,-511.5 0,-547.5 229,-547.5 229,-511.5 0,-511.5\" stroke=\"#000000\"/>\n<text fill=\"#000000\" font-family=\"Times,serif\" font-size=\"14.00\" text-anchor=\"middle\" x=\"114.5\" y=\"-525.8\">max_pooling2d_16: MaxPooling2D</text>\n</g>\n<!-- 140367049704168&#45;&gt;140367049399712 -->\n<g class=\"edge\" id=\"edge17\">\n<title>140367049704168-&gt;140367049399712</title>\n<path d=\"M114.5,-584.4551C114.5,-576.3828 114.5,-566.6764 114.5,-557.6817\" fill=\"none\" stroke=\"#000000\"/>\n<polygon fill=\"#000000\" points=\"118.0001,-557.5903 114.5,-547.5904 111.0001,-557.5904 118.0001,-557.5903\" stroke=\"#000000\"/>\n</g>\n<!-- 140367049503688 -->\n<g class=\"node\" id=\"node18\">\n<title>140367049503688</title>\n<polygon fill=\"none\" points=\"44,-438.5 44,-474.5 185,-474.5 185,-438.5 44,-438.5\" stroke=\"#000000\"/>\n<text fill=\"#000000\" font-family=\"Times,serif\" font-size=\"14.00\" text-anchor=\"middle\" x=\"114.5\" y=\"-452.8\">dropout_16: Dropout</text>\n</g>\n<!-- 140367049399712&#45;&gt;140367049503688 -->\n<g class=\"edge\" id=\"edge18\">\n<title>140367049399712-&gt;140367049503688</title>\n<path d=\"M114.5,-511.4551C114.5,-503.3828 114.5,-493.6764 114.5,-484.6817\" fill=\"none\" stroke=\"#000000\"/>\n<polygon fill=\"#000000\" points=\"118.0001,-484.5903 114.5,-474.5904 111.0001,-484.5904 118.0001,-484.5903\" stroke=\"#000000\"/>\n</g>\n<!-- 140367049397360 -->\n<g class=\"node\" id=\"node19\">\n<title>140367049397360</title>\n<polygon fill=\"none\" points=\"58,-365.5 58,-401.5 171,-401.5 171,-365.5 58,-365.5\" stroke=\"#000000\"/>\n<text fill=\"#000000\" font-family=\"Times,serif\" font-size=\"14.00\" text-anchor=\"middle\" x=\"114.5\" y=\"-379.8\">flatten_6: Flatten</text>\n</g>\n<!-- 140367049503688&#45;&gt;140367049397360 -->\n<g class=\"edge\" id=\"edge19\">\n<title>140367049503688-&gt;140367049397360</title>\n<path d=\"M114.5,-438.4551C114.5,-430.3828 114.5,-420.6764 114.5,-411.6817\" fill=\"none\" stroke=\"#000000\"/>\n<polygon fill=\"#000000\" points=\"118.0001,-411.5903 114.5,-401.5904 111.0001,-411.5904 118.0001,-411.5903\" stroke=\"#000000\"/>\n</g>\n<!-- 140367049613208 -->\n<g class=\"node\" id=\"node20\">\n<title>140367049613208</title>\n<polygon fill=\"none\" points=\"58,-292.5 58,-328.5 171,-328.5 171,-292.5 58,-292.5\" stroke=\"#000000\"/>\n<text fill=\"#000000\" font-family=\"Times,serif\" font-size=\"14.00\" text-anchor=\"middle\" x=\"114.5\" y=\"-306.8\">dense_11: Dense</text>\n</g>\n<!-- 140367049397360&#45;&gt;140367049613208 -->\n<g class=\"edge\" id=\"edge20\">\n<title>140367049397360-&gt;140367049613208</title>\n<path d=\"M114.5,-365.4551C114.5,-357.3828 114.5,-347.6764 114.5,-338.6817\" fill=\"none\" stroke=\"#000000\"/>\n<polygon fill=\"#000000\" points=\"118.0001,-338.5903 114.5,-328.5904 111.0001,-338.5904 118.0001,-338.5903\" stroke=\"#000000\"/>\n</g>\n<!-- 140367049053296 -->\n<g class=\"node\" id=\"node21\">\n<title>140367049053296</title>\n<polygon fill=\"none\" points=\"34,-219.5 34,-255.5 195,-255.5 195,-219.5 34,-219.5\" stroke=\"#000000\"/>\n<text fill=\"#000000\" font-family=\"Times,serif\" font-size=\"14.00\" text-anchor=\"middle\" x=\"114.5\" y=\"-233.8\">activation_29: Activation</text>\n</g>\n<!-- 140367049613208&#45;&gt;140367049053296 -->\n<g class=\"edge\" id=\"edge21\">\n<title>140367049613208-&gt;140367049053296</title>\n<path d=\"M114.5,-292.4551C114.5,-284.3828 114.5,-274.6764 114.5,-265.6817\" fill=\"none\" stroke=\"#000000\"/>\n<polygon fill=\"#000000\" points=\"118.0001,-265.5903 114.5,-255.5904 111.0001,-265.5904 118.0001,-265.5903\" stroke=\"#000000\"/>\n</g>\n<!-- 140367049284240 -->\n<g class=\"node\" id=\"node22\">\n<title>140367049284240</title>\n<polygon fill=\"none\" points=\"44,-146.5 44,-182.5 185,-182.5 185,-146.5 44,-146.5\" stroke=\"#000000\"/>\n<text fill=\"#000000\" font-family=\"Times,serif\" font-size=\"14.00\" text-anchor=\"middle\" x=\"114.5\" y=\"-160.8\">dropout_17: Dropout</text>\n</g>\n<!-- 140367049053296&#45;&gt;140367049284240 -->\n<g class=\"edge\" id=\"edge22\">\n<title>140367049053296-&gt;140367049284240</title>\n<path d=\"M114.5,-219.4551C114.5,-211.3828 114.5,-201.6764 114.5,-192.6817\" fill=\"none\" stroke=\"#000000\"/>\n<polygon fill=\"#000000\" points=\"118.0001,-192.5903 114.5,-182.5904 111.0001,-192.5904 118.0001,-192.5903\" stroke=\"#000000\"/>\n</g>\n<!-- 140367049052288 -->\n<g class=\"node\" id=\"node23\">\n<title>140367049052288</title>\n<polygon fill=\"none\" points=\"57.5,-73.5 57.5,-109.5 171.5,-109.5 171.5,-73.5 57.5,-73.5\" stroke=\"#000000\"/>\n<text fill=\"#000000\" font-family=\"Times,serif\" font-size=\"14.00\" text-anchor=\"middle\" x=\"114.5\" y=\"-87.8\">dense_12: Dense</text>\n</g>\n<!-- 140367049284240&#45;&gt;140367049052288 -->\n<g class=\"edge\" id=\"edge23\">\n<title>140367049284240-&gt;140367049052288</title>\n<path d=\"M114.5,-146.4551C114.5,-138.3828 114.5,-128.6764 114.5,-119.6817\" fill=\"none\" stroke=\"#000000\"/>\n<polygon fill=\"#000000\" points=\"118.0001,-119.5903 114.5,-109.5904 111.0001,-119.5904 118.0001,-119.5903\" stroke=\"#000000\"/>\n</g>\n<!-- 140367049284016 -->\n<g class=\"node\" id=\"node24\">\n<title>140367049284016</title>\n<polygon fill=\"none\" points=\"63.5,-.5 63.5,-36.5 165.5,-36.5 165.5,-.5 63.5,-.5\" stroke=\"#000000\"/>\n<text fill=\"#000000\" font-family=\"Times,serif\" font-size=\"14.00\" text-anchor=\"middle\" x=\"114.5\" y=\"-14.8\">out: Activation</text>\n</g>\n<!-- 140367049052288&#45;&gt;140367049284016 -->\n<g class=\"edge\" id=\"edge24\">\n<title>140367049052288-&gt;140367049284016</title>\n<path d=\"M114.5,-73.4551C114.5,-65.3828 114.5,-55.6764 114.5,-46.6817\" fill=\"none\" stroke=\"#000000\"/>\n<polygon fill=\"#000000\" points=\"118.0001,-46.5903 114.5,-36.5904 111.0001,-46.5904 118.0001,-46.5903\" stroke=\"#000000\"/>\n</g>\n<!-- 140367050452328 -->\n<g class=\"node\" id=\"node25\">\n<title>140367050452328</title>\n<polygon fill=\"none\" points=\"50,-1752.5 50,-1788.5 179,-1788.5 179,-1752.5 50,-1752.5\" stroke=\"#000000\"/>\n<text fill=\"#000000\" font-family=\"Times,serif\" font-size=\"14.00\" text-anchor=\"middle\" x=\"114.5\" y=\"-1766.8\">140367050452328</text>\n</g>\n<!-- 140367050452328&#45;&gt;140367050451040 -->\n<g class=\"edge\" id=\"edge1\">\n<title>140367050452328-&gt;140367050451040</title>\n<path d=\"M114.5,-1752.4551C114.5,-1744.3828 114.5,-1734.6764 114.5,-1725.6817\" fill=\"none\" stroke=\"#000000\"/>\n<polygon fill=\"#000000\" points=\"118.0001,-1725.5903 114.5,-1715.5904 111.0001,-1725.5904 118.0001,-1725.5903\" stroke=\"#000000\"/>\n</g>\n</g>\n</svg>"
          },
          "metadata": {
            "tags": []
          },
          "execution_count": 63
        }
      ]
    },
    {
      "metadata": {
        "id": "WgQoBaeP6XYK",
        "colab_type": "code",
        "colab": {}
      },
      "cell_type": "code",
      "source": [
        "opt = Adam(lr=0.0001)\n",
        "\n",
        "model_dl.compile(optimizer=opt,\n",
        "              loss='categorical_crossentropy',\n",
        "              metrics={'out': 'acc'})"
      ],
      "execution_count": 0,
      "outputs": []
    },
    {
      "metadata": {
        "id": "PHUXzsGG6ZuP",
        "colab_type": "code",
        "colab": {
          "base_uri": "https://localhost:8080/",
          "height": 232
        },
        "outputId": "05a6c7e3-7ee8-4af6-e3b6-5f41bcc4e7ac"
      },
      "cell_type": "code",
      "source": [
        "history = model_dl.fit(\n",
        "    x=x_train/255.,\n",
        "    y=to_categorical(y_train, num_classes=10),\n",
        "    batch_size=32,\n",
        "    epochs=30,\n",
        "    validation_data=(x_test/255., to_categorical(y_test, num_classes=10)),\n",
        "    shuffle=True\n",
        ")"
      ],
      "execution_count": 1,
      "outputs": [
        {
          "output_type": "error",
          "ename": "NameError",
          "evalue": "ignored",
          "traceback": [
            "\u001b[0;31m---------------------------------------------------------------------------\u001b[0m",
            "\u001b[0;31mNameError\u001b[0m                                 Traceback (most recent call last)",
            "\u001b[0;32m<ipython-input-1-64cc4023c164>\u001b[0m in \u001b[0;36m<module>\u001b[0;34m()\u001b[0m\n\u001b[0;32m----> 1\u001b[0;31m history = model_dl.fit(\n\u001b[0m\u001b[1;32m      2\u001b[0m     \u001b[0mx\u001b[0m\u001b[0;34m=\u001b[0m\u001b[0mx_train\u001b[0m\u001b[0;34m/\u001b[0m\u001b[0;36m255.\u001b[0m\u001b[0;34m,\u001b[0m\u001b[0;34m\u001b[0m\u001b[0;34m\u001b[0m\u001b[0m\n\u001b[1;32m      3\u001b[0m     \u001b[0my\u001b[0m\u001b[0;34m=\u001b[0m\u001b[0mto_categorical\u001b[0m\u001b[0;34m(\u001b[0m\u001b[0my_train\u001b[0m\u001b[0;34m,\u001b[0m \u001b[0mnum_classes\u001b[0m\u001b[0;34m=\u001b[0m\u001b[0;36m10\u001b[0m\u001b[0;34m)\u001b[0m\u001b[0;34m,\u001b[0m\u001b[0;34m\u001b[0m\u001b[0;34m\u001b[0m\u001b[0m\n\u001b[1;32m      4\u001b[0m     \u001b[0mbatch_size\u001b[0m\u001b[0;34m=\u001b[0m\u001b[0;36m32\u001b[0m\u001b[0;34m,\u001b[0m\u001b[0;34m\u001b[0m\u001b[0;34m\u001b[0m\u001b[0m\n\u001b[1;32m      5\u001b[0m     \u001b[0mepochs\u001b[0m\u001b[0;34m=\u001b[0m\u001b[0;36m30\u001b[0m\u001b[0;34m,\u001b[0m\u001b[0;34m\u001b[0m\u001b[0;34m\u001b[0m\u001b[0m\n",
            "\u001b[0;31mNameError\u001b[0m: name 'model_dl' is not defined"
          ]
        }
      ]
    },
    {
      "metadata": {
        "id": "66-l0EMy6bn0",
        "colab_type": "code",
        "colab": {
          "base_uri": "https://localhost:8080/",
          "height": 51
        },
        "outputId": "a545cbc8-48c0-4bb8-8a13-2afc9b1be690"
      },
      "cell_type": "code",
      "source": [
        "preds_dl_train = model_dl.predict(x_train/255., verbose=1, batch_size=64)\n",
        "preds_dl_test = model_dl.predict(x_test/255., verbose=1, batch_size=64)"
      ],
      "execution_count": 66,
      "outputs": [
        {
          "output_type": "stream",
          "text": [
            "50000/50000 [==============================] - 6s 110us/step\n",
            "10000/10000 [==============================] - 1s 107us/step\n"
          ],
          "name": "stdout"
        }
      ]
    },
    {
      "metadata": {
        "id": "CCqxw2-u6fUN",
        "colab_type": "code",
        "colab": {
          "base_uri": "https://localhost:8080/",
          "height": 102
        },
        "outputId": "15f41070-f5ed-4caa-caf1-9009b1b4bcc6"
      },
      "cell_type": "code",
      "source": [
        "print('CNN train accuracy')\n",
        "print(accuracy_score(y_train.flatten(), np.argmax(preds_dl_train, axis=1)))\n",
        "print('')\n",
        "print('CNN test accuracy')\n",
        "print(accuracy_score(y_test.flatten(), np.argmax(preds_dl_test, axis=1)))"
      ],
      "execution_count": 67,
      "outputs": [
        {
          "output_type": "stream",
          "text": [
            "CNN train accuracy\n",
            "0.83002\n",
            "\n",
            "CNN test accuracy\n",
            "0.7774\n"
          ],
          "name": "stdout"
        }
      ]
    },
    {
      "metadata": {
        "id": "UzVO8MUx7JMg",
        "colab_type": "code",
        "colab": {
          "base_uri": "https://localhost:8080/",
          "height": 485
        },
        "outputId": "05a57dfc-df46-4fe2-ec88-28ed3018a517"
      },
      "cell_type": "code",
      "source": [
        "fig = plt.figure(figsize=(15,7.5))\n",
        "\n",
        "epochs = range(1, len(history.history['acc']) + 1)\n",
        "\n",
        "plt.plot(epochs, history.history['acc'], 'r', label='Training loss')\n",
        "plt.plot(epochs, history.history['val_acc'], 'b', label='Validation loss')\n",
        "plt.title('Training and validation loss')\n",
        "plt.xlabel('Epochs')\n",
        "plt.ylabel('Loss')\n",
        "plt.legend()\n",
        "\n",
        "plt.show()"
      ],
      "execution_count": 68,
      "outputs": [
        {
          "output_type": "display_data",
          "data": {
            "image/png": "[encoded data removed]",
            "text/plain": [
              "<Figure size 1080x540 with 1 Axes>"
            ]
          },
          "metadata": {
            "tags": []
          }
        }
      ]
    },
    {
      "metadata": {
        "id": "yo4xtsap7Jgp",
        "colab_type": "code",
        "colab": {}
      },
      "cell_type": "code",
      "source": [
        ""
      ],
      "execution_count": 0,
      "outputs": []
    },
    {
      "metadata": {
        "id": "CsbWV0ye7Jsp",
        "colab_type": "code",
        "colab": {}
      },
      "cell_type": "code",
      "source": [
        ""
      ],
      "execution_count": 0,
      "outputs": []
    },
    {
      "metadata": {
        "id": "6bCKih037J8c",
        "colab_type": "code",
        "colab": {}
      },
      "cell_type": "code",
      "source": [
        ""
      ],
      "execution_count": 0,
      "outputs": []
    },
    {
      "metadata": {
        "id": "4ctAXSef7KIH",
        "colab_type": "code",
        "colab": {
          "base_uri": "https://localhost:8080/",
          "height": 494
        },
        "outputId": "05ce0130-9a28-4785-e145-d9c00f20cda8"
      },
      "cell_type": "code",
      "source": [
        "!pip install mxnet-cu92"
      ],
      "execution_count": 17,
      "outputs": [
        {
          "output_type": "stream",
          "text": [
            "Collecting mxnet-cu92\n",
            "\u001b[?25l  Downloading https://files.pythonhosted.org/packages/3b/18/b4d7a80ee371bc18ac08e1714402a281af806e09aba108a10f6590720fff/mxnet_cu92-1.3.1-py2.py3-none-manylinux1_x86_64.whl (412.1MB)\n",
            "\u001b[K    100% |████████████████████████████████| 412.1MB 38kB/s \n",
            "\u001b[?25hCollecting graphviz<0.9.0,>=0.8.1 (from mxnet-cu92)\n",
            "  Downloading https://files.pythonhosted.org/packages/53/39/4ab213673844e0c004bed8a0781a0721a3f6bb23eb8854ee75c236428892/graphviz-0.8.4-py2.py3-none-any.whl\n",
            "Requirement already satisfied: numpy<1.15.0,>=1.8.2 in /usr/local/lib/python3.6/dist-packages (from mxnet-cu92) (1.14.6)\n",
            "Collecting requests>=2.20.0 (from mxnet-cu92)\n",
            "\u001b[?25l  Downloading https://files.pythonhosted.org/packages/7d/e3/20f3d364d6c8e5d2353c72a67778eb189176f08e873c9900e10c0287b84b/requests-2.21.0-py2.py3-none-any.whl (57kB)\n",
            "\u001b[K    100% |████████████████████████████████| 61kB 21.8MB/s \n",
            "\u001b[?25hRequirement already satisfied: certifi>=2017.4.17 in /usr/local/lib/python3.6/dist-packages (from requests>=2.20.0->mxnet-cu92) (2018.11.29)\n",
            "Requirement already satisfied: urllib3<1.25,>=1.21.1 in /usr/local/lib/python3.6/dist-packages (from requests>=2.20.0->mxnet-cu92) (1.22)\n",
            "Requirement already satisfied: idna<2.9,>=2.5 in /usr/local/lib/python3.6/dist-packages (from requests>=2.20.0->mxnet-cu92) (2.6)\n",
            "Requirement already satisfied: chardet<3.1.0,>=3.0.2 in /usr/local/lib/python3.6/dist-packages (from requests>=2.20.0->mxnet-cu92) (3.0.4)\n",
            "\u001b[31mspacy 2.0.18 has requirement numpy>=1.15.0, but you'll have numpy 1.14.6 which is incompatible.\u001b[0m\n",
            "\u001b[31mgoogle-colab 0.0.1a1 has requirement requests~=2.18.0, but you'll have requests 2.21.0 which is incompatible.\u001b[0m\n",
            "Installing collected packages: graphviz, requests, mxnet-cu92\n",
            "  Found existing installation: graphviz 0.10.1\n",
            "    Uninstalling graphviz-0.10.1:\n",
            "      Successfully uninstalled graphviz-0.10.1\n",
            "  Found existing installation: requests 2.18.4\n",
            "    Uninstalling requests-2.18.4:\n",
            "      Successfully uninstalled requests-2.18.4\n",
            "Successfully installed graphviz-0.8.4 mxnet-cu92-1.3.1 requests-2.21.0\n"
          ],
          "name": "stdout"
        },
        {
          "output_type": "display_data",
          "data": {
            "application/vnd.colab-display-data+json": {
              "pip_warning": {
                "packages": [
                  "requests"
                ]
              }
            }
          },
          "metadata": {
            "tags": []
          }
        }
      ]
    },
    {
      "metadata": {
        "id": "oDZuxhiQ7xiG",
        "colab_type": "code",
        "colab": {
          "base_uri": "https://localhost:8080/",
          "height": 34
        },
        "outputId": "5fbbaf80-b5e4-47cf-a732-cc1426d5a315"
      },
      "cell_type": "code",
      "source": [
        ""
      ],
      "execution_count": 1,
      "outputs": [
        {
          "output_type": "execute_result",
          "data": {
            "text/plain": [
              "'/device:GPU:0'"
            ]
          },
          "metadata": {
            "tags": []
          },
          "execution_count": 1
        }
      ]
    },
    {
      "metadata": {
        "id": "yJz40KMi8aY7",
        "colab_type": "code",
        "colab": {
          "base_uri": "https://localhost:8080/",
          "height": 334
        },
        "outputId": "1ea3acc5-5c41-442a-d34f-71ddea0517f3"
      },
      "cell_type": "code",
      "source": [
        "from odata import ODataService\n",
        "url = 'http://services.odata.org/V4/Northwind/Northwind.svc/'\n",
        "Service = ODataService(url, reflect_entities=True)"
      ],
      "execution_count": 69,
      "outputs": [
        {
          "output_type": "error",
          "ename": "ModuleNotFoundError",
          "evalue": "ignored",
          "traceback": [
            "\u001b[0;31m---------------------------------------------------------------------------\u001b[0m",
            "\u001b[0;31mModuleNotFoundError\u001b[0m                       Traceback (most recent call last)",
            "\u001b[0;32m<ipython-input-69-499a7c11d405>\u001b[0m in \u001b[0;36m<module>\u001b[0;34m()\u001b[0m\n\u001b[0;32m----> 1\u001b[0;31m \u001b[0;32mfrom\u001b[0m \u001b[0modata\u001b[0m \u001b[0;32mimport\u001b[0m \u001b[0mODataService\u001b[0m\u001b[0;34m\u001b[0m\u001b[0;34m\u001b[0m\u001b[0m\n\u001b[0m\u001b[1;32m      2\u001b[0m \u001b[0murl\u001b[0m \u001b[0;34m=\u001b[0m \u001b[0;34m'http://services.odata.org/V4/Northwind/Northwind.svc/'\u001b[0m\u001b[0;34m\u001b[0m\u001b[0;34m\u001b[0m\u001b[0m\n\u001b[1;32m      3\u001b[0m \u001b[0mService\u001b[0m \u001b[0;34m=\u001b[0m \u001b[0mODataService\u001b[0m\u001b[0;34m(\u001b[0m\u001b[0murl\u001b[0m\u001b[0;34m,\u001b[0m \u001b[0mreflect_entities\u001b[0m\u001b[0;34m=\u001b[0m\u001b[0;32mTrue\u001b[0m\u001b[0;34m)\u001b[0m\u001b[0;34m\u001b[0m\u001b[0;34m\u001b[0m\u001b[0m\n",
            "\u001b[0;31mModuleNotFoundError\u001b[0m: No module named 'odata'",
            "",
            "\u001b[0;31m---------------------------------------------------------------------------\u001b[0;32m\nNOTE: If your import is failing due to a missing package, you can\nmanually install dependencies using either !pip or !apt.\n\nTo view examples of installing some common dependencies, click the\n\"Open Examples\" button below.\n\u001b[0;31m---------------------------------------------------------------------------\u001b[0m\n"
          ]
        }
      ]
    },
    {
      "metadata": {
        "id": "ObnVMZa2Pv08",
        "colab_type": "code",
        "colab": {
          "base_uri": "https://localhost:8080/",
          "height": 68
        },
        "outputId": "ba85d49d-1a1c-4b71-a1f7-4c5657f09d75"
      },
      "cell_type": "code",
      "source": [
        "!pip install odata"
      ],
      "execution_count": 70,
      "outputs": [
        {
          "output_type": "stream",
          "text": [
            "Collecting odata\n",
            "\u001b[31m  Could not find a version that satisfies the requirement odata (from versions: )\u001b[0m\n",
            "\u001b[31mNo matching distribution found for odata\u001b[0m\n"
          ],
          "name": "stdout"
        }
      ]
    },
    {
      "metadata": {
        "id": "HeCD1t-xPzoW",
        "colab_type": "code",
        "colab": {}
      },
      "cell_type": "code",
      "source": [
        ""
      ],
      "execution_count": 0,
      "outputs": []
    }
  ]
}